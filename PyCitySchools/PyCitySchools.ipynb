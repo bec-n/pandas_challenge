{
 "cells": [
  {
   "cell_type": "code",
   "execution_count": 10,
   "metadata": {},
   "outputs": [],
   "source": [
    "# Dependencies and Setup\n",
    "import pandas as pd\n",
    "from pathlib import Path"
   ]
  },
  {
   "cell_type": "code",
   "execution_count": 11,
   "metadata": {},
   "outputs": [],
   "source": [
    "# File to Load (Remember to Change These)\n",
    "school_data_to_load = Path(\"Resources/schools_complete.csv\")\n",
    "student_data_to_load = Path(\"Resources/students_complete.csv\")"
   ]
  },
  {
   "cell_type": "code",
   "execution_count": 12,
   "metadata": {},
   "outputs": [],
   "source": [
    "# Read School and Student Data File and store into Pandas DataFrames\n",
    "school_data = pd.read_csv(school_data_to_load)\n",
    "student_data = pd.read_csv(student_data_to_load)"
   ]
  },
  {
   "cell_type": "code",
   "execution_count": 13,
   "metadata": {},
   "outputs": [],
   "source": [
    "# Combine the data into a single dataset.  \n",
    "school_data_complete = pd.merge(student_data, school_data, how=\"left\", on=[\"school_name\", \"school_name\"])"
   ]
  },
  {
   "cell_type": "code",
   "execution_count": 14,
   "metadata": {},
   "outputs": [
    {
     "name": "stdout",
     "output_type": "stream",
     "text": [
      "       Student ID     student_name gender  year         school_name  \\\n",
      "0               0     Paul Bradley      M     9   Huang High School   \n",
      "1               1     Victor Smith      M    12   Huang High School   \n",
      "2               2  Kevin Rodriguez      M    12   Huang High School   \n",
      "3               3    Richard Scott      M    12   Huang High School   \n",
      "4               4       Bonnie Ray      F     9   Huang High School   \n",
      "...           ...              ...    ...   ...                 ...   \n",
      "39165       39165     Donna Howard      F    12  Thomas High School   \n",
      "39166       39166        Dawn Bell      F    10  Thomas High School   \n",
      "39167       39167   Rebecca Tanner      F     9  Thomas High School   \n",
      "39168       39168     Desiree Kidd      F    10  Thomas High School   \n",
      "39169       39169  Carolyn Jackson      F    11  Thomas High School   \n",
      "\n",
      "       reading_score  maths_score  School ID         type  size   budget  \n",
      "0                 96           94          0   Government  2917  1910635  \n",
      "1                 90           43          0   Government  2917  1910635  \n",
      "2                 41           76          0   Government  2917  1910635  \n",
      "3                 89           86          0   Government  2917  1910635  \n",
      "4                 87           69          0   Government  2917  1910635  \n",
      "...              ...          ...        ...          ...   ...      ...  \n",
      "39165             51           48         14  Independent  1635  1043130  \n",
      "39166             81           89         14  Independent  1635  1043130  \n",
      "39167             99           99         14  Independent  1635  1043130  \n",
      "39168             72           77         14  Independent  1635  1043130  \n",
      "39169             47           62         14  Independent  1635  1043130  \n",
      "\n",
      "[39170 rows x 11 columns]\n"
     ]
    }
   ],
   "source": [
    "# Create new dataframe\n",
    "print(school_data_complete)"
   ]
  }
 ],
 "metadata": {
  "anaconda-cloud": {},
  "kernelspec": {
   "display_name": "Python 3 (ipykernel)",
   "language": "python",
   "name": "python3"
  },
  "language_info": {
   "codemirror_mode": {
    "name": "ipython",
    "version": 3
   },
   "file_extension": ".py",
   "mimetype": "text/x-python",
   "name": "python",
   "nbconvert_exporter": "python",
   "pygments_lexer": "ipython3",
   "version": "3.10.10"
  }
 },
 "nbformat": 4,
 "nbformat_minor": 2
}
